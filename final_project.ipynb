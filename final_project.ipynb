{
  "nbformat": 4,
  "nbformat_minor": 0,
  "metadata": {
    "colab": {
      "provenance": [],
      "include_colab_link": true
    },
    "kernelspec": {
      "name": "python3",
      "display_name": "Python 3"
    },
    "language_info": {
      "name": "python"
    }
  },
  "cells": [
    {
      "cell_type": "markdown",
      "metadata": {
        "id": "view-in-github",
        "colab_type": "text"
      },
      "source": [
        "<a href=\"https://colab.research.google.com/github/NourMlaiki/AI_Ovarian/blob/main/final_project.ipynb\" target=\"_parent\"><img src=\"https://colab.research.google.com/assets/colab-badge.svg\" alt=\"Open In Colab\"/></a>"
      ]
    },
    {
      "cell_type": "markdown",
      "source": [
        "# Nour's Data notebook\n",
        "This notebook will serve as an area where you will clean, format and then find patterns in your dataset."
      ],
      "metadata": {
        "id": "YmcKZij-FoSn"
      }
    },
    {
      "cell_type": "markdown",
      "source": [
        "# Dataset Information\n",
        "**Source:** https://www.kaggle.com/datasets/saurabhshahane/predict-ovarian-cancer\n",
        "\n",
        "**Structure:** \\\\\n",
        "\n",
        "You will notice there at .xlsx files and .csv files. We will be only using the .csv files.\n",
        "\n",
        "*Supplementary data 1*:\n",
        "It contains the original raw data.\n",
        "\n",
        "*Supplementary data 2*:\n",
        "It contains a list of biomarkers, their abbreviations, and their descriptions\n",
        "used in the study.\n",
        "\n",
        "*Supplementary data 3*:\n",
        "It contains the imputed version of the training data without the biomarker CA72-4.\n",
        "\n",
        "*Supplementary data 4*:\n",
        "It contains the raw training data. (what we will be using for training our Machine Learning algorithms)\n",
        "\n",
        "*Supplementary data 5*:\n",
        "It contains the raw test data. (what we will be using for testing our Machine Learning Algorithm)"
      ],
      "metadata": {
        "id": "W7L8WBsEcc2Y"
      }
    },
    {
      "cell_type": "markdown",
      "source": [
        "# Setup"
      ],
      "metadata": {
        "id": "CU21Ik2WVnw9"
      }
    },
    {
      "cell_type": "code",
      "source": [
        "from google.colab import drive\n",
        "drive.mount('/content/drive')"
      ],
      "metadata": {
        "colab": {
          "base_uri": "https://localhost:8080/"
        },
        "id": "0c_Aa3IPwEzo",
        "outputId": "a761edfa-6e8b-4abb-ccd2-14994a3955b1"
      },
      "execution_count": null,
      "outputs": [
        {
          "output_type": "stream",
          "name": "stdout",
          "text": [
            "Mounted at /content/drive\n"
          ]
        }
      ]
    },
    {
      "cell_type": "code",
      "source": [
        "'''\n",
        "You will need to change this link as it will be different on your computer. If you go to our shared folder, right click on the backup_ovarian_cancer folder\n",
        "and\n",
        "'''\n",
        "%cd /content/drive/MyDrive/Nour Mlaiki/data/backup_ovarian_cancer"
      ],
      "metadata": {
        "colab": {
          "base_uri": "https://localhost:8080/"
        },
        "id": "yqg0yUc8tVFs",
        "outputId": "7ee07bad-a4e6-4763-fd3d-c5d4f983e951"
      },
      "execution_count": null,
      "outputs": [
        {
          "output_type": "stream",
          "name": "stdout",
          "text": [
            "/content/drive/.shortcut-targets-by-id/1D8RoLO-TdYDGe9-8S4-wxPsXOHCmn9J8/Nour Mlaiki/data/backup_ovarian_cancer\n"
          ]
        }
      ]
    },
    {
      "cell_type": "code",
      "source": [
        "# the 'ls' command lists all of the files in the backup_ovarian_cancer folder\n",
        "!ls"
      ],
      "metadata": {
        "colab": {
          "base_uri": "https://localhost:8080/"
        },
        "id": "AB3HQKh5tfyu",
        "outputId": "68db9559-7e93-4d05-aa06-e819030685b6"
      },
      "execution_count": null,
      "outputs": [
        {
          "output_type": "stream",
          "name": "stdout",
          "text": [
            "'Supplementary data 1.xlsx'  'Supplementary data 4.csv'\n",
            "'Supplementary data 2.xlsx'  'Supplementary data 4.xlsx'\n",
            "'Supplementary data 3.csv'   'Supplementary data 5.csv'\n",
            "'Supplementary data 3.xlsx'  'Supplementary data 5.xlsx'\n"
          ]
        }
      ]
    },
    {
      "cell_type": "code",
      "execution_count": null,
      "metadata": {
        "id": "3OhQSJpLr0OT"
      },
      "outputs": [],
      "source": [
        "import numpy as np\n",
        "import pandas as pd\n",
        "from sklearn.model_selection import train_test_split\n",
        "import os"
      ]
    },
    {
      "cell_type": "markdown",
      "source": [
        "# Prepare Our Data for the Machine Learning Models"
      ],
      "metadata": {
        "id": "6rfhLRE1UCMB"
      }
    },
    {
      "cell_type": "code",
      "source": [
        "# Reading in our data and converting it to pandas and numpy data\n",
        "dataset = 'Supplementary data 4.csv'\n",
        "data_pandas = pd.read_csv(dataset)\n",
        "data_numpy = data_pandas.to_numpy()\n",
        "print(data_pandas)"
      ],
      "metadata": {
        "id": "f-fxnerLyWM9",
        "colab": {
          "base_uri": "https://localhost:8080/"
        },
        "outputId": "0a9decac-f511-478f-acfa-b868c3cd91df"
      },
      "execution_count": null,
      "outputs": [
        {
          "output_type": "stream",
          "name": "stdout",
          "text": [
            "     SUBJECT_ID      AFP     AG  Age   ALB   ALP   ALT   AST  BASO#  BASO%  \\\n",
            "0             1   3.58\\t  19.36   47  45.4  56.0  11.0  24.0   0.01   0.30   \n",
            "1             2  34.24\\t  23.98   61  39.9  95.0   9.0  13.0   0.02   0.30   \n",
            "2             3   1.50\\t  18.40   39  45.4  77.0   9.0  18.0   0.03   0.60   \n",
            "3             4     2.75  16.60   45  39.2  26.0  16.0  17.0   0.05   0.74   \n",
            "4             5     2.36  19.97   45  35.0  47.0  21.0  27.0   0.01   0.10   \n",
            "..          ...      ...    ...  ...   ...   ...   ...   ...    ...    ...   \n",
            "230         231     0.77  20.75   32  34.8  51.0  18.0  19.0   0.02   0.70   \n",
            "231         232     1.92  20.69   44  43.1  78.0  17.0  24.0   0.07   0.90   \n",
            "232         233     2.44  22.04   52  43.7  63.0  16.0  13.0   0.05   0.85   \n",
            "233         234    10.31  17.67   27  43.6  66.0  20.0  16.0   0.07   1.34   \n",
            "234         235      4.3  21.34   40  35.8  57.0  19.0  10.0   0.01   0.10   \n",
            "\n",
            "     ...    NEU    PCT   PDW  PHOS  PLT   RBC   RDW  TBIL    TP     UA  \n",
            "0    ...  76.20  0.090  13.4  1.46   74  2.64  13.7   5.5  73.9  396.4  \n",
            "1    ...  76.50  0.300  11.2  1.09  304  4.89  12.7   6.8  72.0  119.2  \n",
            "2    ...  69.70  0.130  15.2  0.97  112  4.62  12.0  14.8  77.9  209.2  \n",
            "3    ...  65.50  0.250  17.4  1.25  339  4.01  14.6  10.9  66.1  215.6  \n",
            "4    ...  59.50  0.280  11.9  0.94  272  4.40  13.4   5.3  66.5  206.0  \n",
            "..   ...    ...    ...   ...   ...  ...   ...   ...   ...   ...    ...  \n",
            "230  ...  42.44  0.180  11.5  1.42  173  4.51  12.5   9.5  72.6  167.3  \n",
            "231  ...  50.30  0.340  13.5  1.16  299  4.55  13.2  17.7  72.4  184.1  \n",
            "232  ...  45.10  0.175  18.0  1.00  210  4.33  13.4   9.2  77.6  346.6  \n",
            "233  ...  42.70  0.144  19.7  1.59  166  4.15  12.7  12.9  72.0  333.0  \n",
            "234  ...  70.60  0.180  14.6  1.06  150  4.05  12.4   9.3  61.7  186.4  \n",
            "\n",
            "[235 rows x 51 columns]\n"
          ]
        }
      ]
    },
    {
      "cell_type": "code",
      "source": [
        "no = 0\n",
        "yes =0\n",
        "for i in data_numpy[:,19]:\n",
        "  if i == 1:\n",
        "    yes += 1\n",
        "  else :\n",
        "    no += 1\n",
        "print(no)\n",
        "print(yes)\n",
        "\n",
        "\n",
        "\n"
      ],
      "metadata": {
        "colab": {
          "base_uri": "https://localhost:8080/"
        },
        "id": "dJYkELSWiRBA",
        "outputId": "5ad0a345-a524-4c3b-e127-5f0e2c525a72"
      },
      "execution_count": null,
      "outputs": [
        {
          "output_type": "stream",
          "name": "stdout",
          "text": [
            "146\n",
            "89\n"
          ]
        }
      ]
    },
    {
      "cell_type": "code",
      "source": [
        "s=0\n",
        "for i in data_pandas['Age']:\n",
        "  if i == 61:\n",
        "    s+=0\n",
        "\n",
        "print(s)\n"
      ],
      "metadata": {
        "colab": {
          "base_uri": "https://localhost:8080/"
        },
        "id": "ad_tfZ6UrP-l",
        "outputId": "3aae73a1-d646-49e7-b881-550ad075efed"
      },
      "execution_count": null,
      "outputs": [
        {
          "output_type": "stream",
          "name": "stdout",
          "text": [
            "0\n"
          ]
        }
      ]
    },
    {
      "cell_type": "code",
      "source": [
        "# Import libraries\n",
        "import matplotlib.pyplot as plt\n",
        "import numpy as np\n",
        "\n",
        "\n",
        "# Creating datas\n",
        "\n",
        "fig = plt.figure(figsize =(10, 7))\n",
        "\n",
        "# Creating plot\n",
        "plt.boxplot(data_pandas['Age'], vert = 0)\n",
        "\n",
        "# show plot\n",
        "plt.show()\n"
      ],
      "metadata": {
        "colab": {
          "base_uri": "https://localhost:8080/",
          "height": 428
        },
        "id": "kUUgCPFEdZOq",
        "outputId": "9fcf9ced-25b3-4373-c280-8e8ad21c9f77"
      },
      "execution_count": null,
      "outputs": [
        {
          "output_type": "display_data",
          "data": {
            "text/plain": [
              "<Figure size 720x504 with 1 Axes>"
            ],
            "image/png": "[encoded data removed]"
          },
          "metadata": {
            "needs_background": "light"
          }
        }
      ]
    },
    {
      "cell_type": "code",
      "source": [
        "dataset_test = 'Supplementary data 5.csv'\n",
        "data_pandas_test = pd.read_csv(dataset_test)\n",
        "data_numpy_test = data_pandas_test.to_numpy()"
      ],
      "metadata": {
        "id": "x5sCrDDmmKO2"
      },
      "execution_count": null,
      "outputs": []
    },
    {
      "cell_type": "code",
      "source": [
        "# Fixing string errors in the data\n",
        "\n",
        "def format_data(data_pandas, data_numpy):\n",
        "  AFP_new={}\n",
        "  new_col = []\n",
        "  for i in range(data_numpy.shape[0]):\n",
        "    value=data_numpy[i,1]\n",
        "    if isinstance(value,str):\n",
        "      value = value.strip(\"\\t>\")\n",
        "\n",
        "    AFP_new[i]=float(value)\n",
        "    new_col.append(float(value))\n",
        "\n",
        "  data_pandas['AFP']= AFP_new.values()\n",
        "  data_pandas = data_pandas.apply(pd.to_numeric, errors='coerce')\n",
        "  data_pandas.fillna(data_pandas.mean(numeric_only=True), inplace=True)\n",
        "  data_numpy = data_pandas.to_numpy()\n",
        "\n",
        "  return data_pandas, data_numpy"
      ],
      "metadata": {
        "id": "D3X-e39GRE1t"
      },
      "execution_count": null,
      "outputs": []
    },
    {
      "cell_type": "code",
      "source": [
        "def get_x_and_y(data_numpy):\n",
        "  x = np.concatenate((data_numpy[:,1:19], data_numpy[:,20:]), axis=1)\n",
        "  y = data_numpy[:,19]\n",
        "  return x, y"
      ],
      "metadata": {
        "id": "lVe4CmK3Sb6L"
      },
      "execution_count": null,
      "outputs": []
    },
    {
      "cell_type": "code",
      "source": [
        "# my_array = [1, 2, 3, 4, 5]\n",
        "# we want all the number in array to be between 0 and 1\n",
        "# normalized_array = [0, 0.25, 0.5, 0.75, 1]\n",
        "# Hint: max and min value in the array. min=1, max=5\n",
        "# 5/ max = 1\n",
        "# 1/ max = 0.2\n",
        "# x_noramlized = (x_old - min)/(max-min)\n",
        "\n",
        "\n",
        "def normalize_data(x):\n",
        "  max_els = x.max(0)\n",
        "  min_els = x.min(0)\n",
        "\n",
        "  normalized_x = (x - min_els) / (max_els - min_els)   # TODO: Fill in.\n",
        "  return normalized_x"
      ],
      "metadata": {
        "id": "FgZMPCiySo3o"
      },
      "execution_count": null,
      "outputs": []
    },
    {
      "cell_type": "code",
      "source": [
        "def get_x_and_y(data_numpy):\n",
        "  x = np.concatenate((data_numpy[:,1:19], data_numpy[:,20:]), axis=1)\n",
        "  y = data_numpy[:,19]\n",
        "  return x, y"
      ],
      "metadata": {
        "id": "Fb9oQHBGllph"
      },
      "execution_count": null,
      "outputs": []
    },
    {
      "cell_type": "code",
      "source": [
        "data_pandas, data_numpy = format_data(data_pandas, data_numpy)\n",
        "data_pandas_test,data_numpy_test = format_data(data_pandas_test, data_numpy_test)"
      ],
      "metadata": {
        "id": "4Ka9EqkySALY",
        "colab": {
          "base_uri": "https://localhost:8080/",
          "height": 183
        },
        "outputId": "3e23026c-3d60-4cda-a3ef-8fd02066f853"
      },
      "execution_count": null,
      "outputs": [
        {
          "output_type": "error",
          "ename": "NameError",
          "evalue": "ignored",
          "traceback": [
            "\u001b[0;31m---------------------------------------------------------------------------\u001b[0m",
            "\u001b[0;31mNameError\u001b[0m                                 Traceback (most recent call last)",
            "\u001b[0;32m<ipython-input-7-6787c8fca693>\u001b[0m in \u001b[0;36m<module>\u001b[0;34m\u001b[0m\n\u001b[1;32m      1\u001b[0m \u001b[0mdata_pandas\u001b[0m\u001b[0;34m,\u001b[0m \u001b[0mdata_numpy\u001b[0m \u001b[0;34m=\u001b[0m \u001b[0mformat_data\u001b[0m\u001b[0;34m(\u001b[0m\u001b[0mdata_pandas\u001b[0m\u001b[0;34m,\u001b[0m \u001b[0mdata_numpy\u001b[0m\u001b[0;34m)\u001b[0m\u001b[0;34m\u001b[0m\u001b[0;34m\u001b[0m\u001b[0m\n\u001b[0;32m----> 2\u001b[0;31m \u001b[0mdata_pandas_test\u001b[0m\u001b[0;34m,\u001b[0m\u001b[0mdata_numpy_test\u001b[0m \u001b[0;34m=\u001b[0m \u001b[0mformat_data\u001b[0m\u001b[0;34m(\u001b[0m\u001b[0mdata_pandas_test\u001b[0m\u001b[0;34m,\u001b[0m \u001b[0mdata_numpy_test\u001b[0m\u001b[0;34m)\u001b[0m\u001b[0;34m\u001b[0m\u001b[0;34m\u001b[0m\u001b[0m\n\u001b[0m",
            "\u001b[0;31mNameError\u001b[0m: name 'data_pandas_test' is not defined"
          ]
        }
      ]
    },
    {
      "cell_type": "code",
      "source": [
        "print(data_pandas_test)"
      ],
      "metadata": {
        "colab": {
          "base_uri": "https://localhost:8080/"
        },
        "id": "f_pHkwtfftVX",
        "outputId": "4a0a4281-2b15-4082-b51b-68b493b4113a"
      },
      "execution_count": null,
      "outputs": [
        {
          "output_type": "stream",
          "name": "stdout",
          "text": [
            "     SUBJECT_ID   AFP     AG  Age   ALB    ALP   ALT   AST  BASO#  BASO%  ...  \\\n",
            "0           301  2.26  23.00   56  35.1  105.0  12.0  20.0   0.04    0.4  ...   \n",
            "1           302  3.11  12.00   72  44.8  128.0  13.0  24.0   0.00    0.0  ...   \n",
            "2           303  5.02  17.05   57  41.1   89.0  18.0  22.0   0.01    0.3  ...   \n",
            "3           304  1.63  16.26   43  35.2   68.0   5.0  13.0   0.00    0.0  ...   \n",
            "4           305  4.76  12.60   65  40.2   81.0   6.0  14.0   0.04    0.5  ...   \n",
            "..          ...   ...    ...  ...   ...    ...   ...   ...    ...    ...  ...   \n",
            "109         410  2.09  20.91   52  48.6   65.0  40.0  30.0   0.00    0.0  ...   \n",
            "110         411  2.00  12.14   37  46.1   49.0   9.0  20.0   0.00    0.0  ...   \n",
            "111         412  2.83  19.23   59  45.8   83.0   9.0  16.0   0.02    0.6  ...   \n",
            "112         413  1.84  27.22   30  47.8   64.0  26.0  22.0   0.03    0.3  ...   \n",
            "113         414  1.61  13.00   39  44.9   68.0   7.0  13.0   0.01    0.2  ...   \n",
            "\n",
            "           NEU   PCT   PDW  PHOS  PLT   RBC   RDW  TBIL    TP     UA  \n",
            "0    75.700000  0.62   9.8  1.40  652  4.88  13.2   9.5  73.8  350.3  \n",
            "1    87.800000  0.16  11.9  1.41  155  4.41  12.2  21.7  72.2  283.8  \n",
            "2    61.100000  0.15  11.3  1.19  144  4.64  12.3  15.0  71.4  301.3  \n",
            "3    84.200000  0.26  12.8  0.99  230  3.67  14.1   9.9  59.0  176.5  \n",
            "4    70.600000  0.36  10.7  0.78  375  4.08  12.5   8.2  70.6  308.6  \n",
            "..         ...   ...   ...   ...  ...   ...   ...   ...   ...    ...  \n",
            "109  73.665217  0.22  10.8  0.99  219  4.56  11.9  10.7  80.4  241.5  \n",
            "110  73.665217  0.31  17.3  0.95  262  4.24  17.7  17.2  73.5  240.5  \n",
            "111  73.665217  0.21  10.4  1.00  221  4.89  11.6  13.8  68.4  209.5  \n",
            "112  73.665217  0.42  13.4  1.31  398  5.35  12.5  11.3  76.0  285.7  \n",
            "113  73.665217  0.23  11.0  1.10  224  4.13  12.1   8.3  68.6  184.9  \n",
            "\n",
            "[114 rows x 51 columns]\n"
          ]
        }
      ]
    },
    {
      "cell_type": "code",
      "source": [
        "print(data_pandas)"
      ],
      "metadata": {
        "colab": {
          "base_uri": "https://localhost:8080/"
        },
        "id": "nr6INAadXBWQ",
        "outputId": "a4b68aee-7f0f-405a-ef81-38ea8648d630"
      },
      "execution_count": null,
      "outputs": [
        {
          "output_type": "stream",
          "name": "stdout",
          "text": [
            "     SUBJECT_ID    AFP     AG  Age   ALB   ALP   ALT   AST  BASO#  BASO%  ...  \\\n",
            "0             1   3.58  19.36   47  45.4  56.0  11.0  24.0   0.01   0.30  ...   \n",
            "1             2  34.24  23.98   61  39.9  95.0   9.0  13.0   0.02   0.30  ...   \n",
            "2             3   1.50  18.40   39  45.4  77.0   9.0  18.0   0.03   0.60  ...   \n",
            "3             4   2.75  16.60   45  39.2  26.0  16.0  17.0   0.05   0.74  ...   \n",
            "4             5   2.36  19.97   45  35.0  47.0  21.0  27.0   0.01   0.10  ...   \n",
            "..          ...    ...    ...  ...   ...   ...   ...   ...    ...    ...  ...   \n",
            "230         231   0.77  20.75   32  34.8  51.0  18.0  19.0   0.02   0.70  ...   \n",
            "231         232   1.92  20.69   44  43.1  78.0  17.0  24.0   0.07   0.90  ...   \n",
            "232         233   2.44  22.04   52  43.7  63.0  16.0  13.0   0.05   0.85  ...   \n",
            "233         234  10.31  17.67   27  43.6  66.0  20.0  16.0   0.07   1.34  ...   \n",
            "234         235   4.30  21.34   40  35.8  57.0  19.0  10.0   0.01   0.10  ...   \n",
            "\n",
            "       NEU    PCT   PDW  PHOS  PLT   RBC   RDW  TBIL    TP     UA  \n",
            "0    76.20  0.090  13.4  1.46   74  2.64  13.7   5.5  73.9  396.4  \n",
            "1    76.50  0.300  11.2  1.09  304  4.89  12.7   6.8  72.0  119.2  \n",
            "2    69.70  0.130  15.2  0.97  112  4.62  12.0  14.8  77.9  209.2  \n",
            "3    65.50  0.250  17.4  1.25  339  4.01  14.6  10.9  66.1  215.6  \n",
            "4    59.50  0.280  11.9  0.94  272  4.40  13.4   5.3  66.5  206.0  \n",
            "..     ...    ...   ...   ...  ...   ...   ...   ...   ...    ...  \n",
            "230  42.44  0.180  11.5  1.42  173  4.51  12.5   9.5  72.6  167.3  \n",
            "231  50.30  0.340  13.5  1.16  299  4.55  13.2  17.7  72.4  184.1  \n",
            "232  45.10  0.175  18.0  1.00  210  4.33  13.4   9.2  77.6  346.6  \n",
            "233  42.70  0.144  19.7  1.59  166  4.15  12.7  12.9  72.0  333.0  \n",
            "234  70.60  0.180  14.6  1.06  150  4.05  12.4   9.3  61.7  186.4  \n",
            "\n",
            "[235 rows x 51 columns]\n"
          ]
        }
      ]
    },
    {
      "cell_type": "code",
      "source": [
        "x_test, y_test = get_x_and_y(data_numpy_test)\n",
        "x_train, y_train = get_x_and_y(data_numpy)\n",
        "# x, x_test, y, y_test= train_test_split(x,y)"
      ],
      "metadata": {
        "id": "ShORZjJe9CPW"
      },
      "execution_count": null,
      "outputs": []
    },
    {
      "cell_type": "code",
      "source": [
        "x_train_normalized = normalize_data(x_train)\n",
        "x_test_normalized = normalize_data(x_test)\n",
        "print(x_train.shape)\n",
        "print(x_test.shape)"
      ],
      "metadata": {
        "id": "WOwSa9MTKTyS",
        "colab": {
          "base_uri": "https://localhost:8080/"
        },
        "outputId": "df4bb33b-ac53-48ea-994b-0fcbc4e36941"
      },
      "execution_count": null,
      "outputs": [
        {
          "output_type": "stream",
          "name": "stdout",
          "text": [
            "(235, 49)\n",
            "(114, 49)\n"
          ]
        }
      ]
    },
    {
      "cell_type": "code",
      "source": [
        "x = np.concatenate((x_train_normalized, x_test_normalized))\n",
        "y = np.concatenate((y_train, y_test))\n",
        "\n",
        "x_train, x_test, y_train, y_test = train_test_split(x,y, test_size=0.15)\n",
        "print(\"X_train dimension: \", x_train.shape)\n",
        "print(\"y_train dimension: \", y_train.shape)\n",
        "print(\"X_test dimension: \", x_test.shape)\n",
        "print(\"y_test dimension: \", y_test.shape)\n",
        "print(\"x dimension\", y.shape)"
      ],
      "metadata": {
        "colab": {
          "base_uri": "https://localhost:8080/"
        },
        "id": "MP0QsgPYpybk",
        "outputId": "55583df8-180e-421e-f86b-00a1e22e0088"
      },
      "execution_count": null,
      "outputs": [
        {
          "output_type": "stream",
          "name": "stdout",
          "text": [
            "X_train dimension:  (296, 49)\n",
            "y_train dimension:  (296,)\n",
            "X_test dimension:  (53, 49)\n",
            "y_test dimension:  (53,)\n",
            "x dimension (349,)\n"
          ]
        }
      ]
    },
    {
      "cell_type": "markdown",
      "source": [
        "# Train Our Machine Learning Models"
      ],
      "metadata": {
        "id": "Yo2i2I8kUIRT"
      }
    },
    {
      "cell_type": "code",
      "source": [
        "# NOTE: This will not work without Normalization!\n",
        "\n",
        "from sklearn.linear_model import LogisticRegression\n",
        "from numpy import array\n",
        "import matplotlib.pyplot as plt\n",
        "\n",
        "\n",
        "acc=array([float()]*200)\n",
        "for i in range(0,200):\n",
        "  model = LogisticRegression(max_iter=i)\n",
        "\n",
        "  model.fit(x_train,y_train)\n",
        "  prediction = model.predict(x_test)\n",
        "  score_logreg = accuracy_score(y_test, prediction)\n",
        "  acc[i]=score_logreg\n",
        "\n",
        "x = np.arange(0, 200)\n",
        "plt.plot(x,acc)\n",
        "plt.ylabel('Accuracy')\n",
        "plt.xlabel('Iteration')\n",
        "plt.show()"
      ],
      "metadata": {
        "id": "4qqDuNBa2lOr",
        "colab": {
          "base_uri": "https://localhost:8080/",
          "height": 279
        },
        "outputId": "1c268d0d-8ac9-4777-c761-e354b0652cc7"
      },
      "execution_count": null,
      "outputs": [
        {
          "output_type": "display_data",
          "data": {
            "text/plain": [
              "<Figure size 432x288 with 1 Axes>"
            ],
            "image/png": "[encoded data removed]"
          },
          "metadata": {
            "needs_background": "light"
          }
        }
      ]
    },
    {
      "cell_type": "code",
      "source": [
        "max=acc[0]\n",
        "for i in range (1,200):\n",
        "  if acc[i]>=max:\n",
        "    max=acc[i]\n",
        "for i in range(1,200):\n",
        "  if max==acc[i]:\n",
        "    a=i\n",
        "\n",
        "print(max,a)"
      ],
      "metadata": {
        "colab": {
          "base_uri": "https://localhost:8080/"
        },
        "id": "lliiQmVOCbsM",
        "outputId": "93f32662-e234-45b5-bcf1-884848ca0907"
      },
      "execution_count": null,
      "outputs": [
        {
          "output_type": "stream",
          "name": "stdout",
          "text": [
            "0.9056603773584906 199\n"
          ]
        }
      ]
    },
    {
      "cell_type": "code",
      "source": [
        "\n",
        "\n",
        "conf_matrix = confusion_matrix(y_true=y_test, y_pred=prediction_nnet)\n",
        "fig, ax = plt.subplots(figsize=(5, 5))\n",
        "ax.matshow(conf_matrix, cmap=plt.cm.Oranges, alpha=0.3)\n",
        "for i in range(conf_matrix.shape[0]):\n",
        "    for j in range(conf_matrix.shape[1]):\n",
        "        ax.text(x=j, y=i,s=conf_matrix[i, j], va='center', ha='center', size='xx-large')\n",
        "\n",
        "plt.xlabel('Predictions', fontsize=18)\n",
        "plt.ylabel('Correct', fontsize=18)\n",
        "plt.title('Confusion Matrix Logistic Regression', fontsize=18)\n",
        "plt.show()"
      ],
      "metadata": {
        "id": "Whd3lUUVW0Gz",
        "colab": {
          "base_uri": "https://localhost:8080/",
          "height": 358
        },
        "outputId": "508d6cfc-5611-4480-9883-cab7d7ca96f6"
      },
      "execution_count": null,
      "outputs": [
        {
          "output_type": "display_data",
          "data": {
            "text/plain": [
              "<Figure size 360x360 with 1 Axes>"
            ],
            "image/png": "[encoded data removed]"
          },
          "metadata": {
            "needs_background": "light"
          }
        }
      ]
    },
    {
      "cell_type": "code",
      "source": [
        "from sklearn.tree import DecisionTreeClassifier\n",
        "\n",
        "\n",
        "model_tree = DecisionTreeClassifier(criterion = \"gini\",\n",
        "            random_state = 100,max_depth=5, min_samples_leaf=10)\n",
        "model_tree.fit(x_train,y_train)\n",
        "prediction_tree_gini= model_tree.predict(x_test)\n",
        "\n",
        "\n",
        "model_tree_entropy = DecisionTreeClassifier(\n",
        "            criterion = \"entropy\", random_state = 100,\n",
        "            max_depth = 5, min_samples_leaf = 10)\n",
        "model_tree_entropy.fit(x_train,y_train)\n",
        "prediction_tree_entropy= model_tree_entropy.predict(x_test)\n"
      ],
      "metadata": {
        "id": "LZ91DF5WHF4r"
      },
      "execution_count": null,
      "outputs": []
    },
    {
      "cell_type": "code",
      "source": [
        "from sklearn.ensemble import RandomForestClassifier\n",
        "\n",
        "\n",
        "model_forest = RandomForestClassifier(criterion='gini',\n",
        "                                 n_estimators=10,\n",
        "                                 random_state=5,\n",
        "                                 n_jobs=10)\n",
        "model_forest.fit(x_train,y_train)\n",
        "prediction_forest= model_forest.predict(x_test)\n",
        "\n",
        "\n",
        "model_forest_entropy = RandomForestClassifier(criterion='entropy',\n",
        "                                 n_estimators=10,\n",
        "                                 random_state=5,\n",
        "                                 n_jobs=10)\n",
        "model_forest_entropy.fit(x_train,y_train)\n",
        "prediction_forest_entropy= model_forest_entropy.predict(x_test)\n"
      ],
      "metadata": {
        "id": "VCgYRNxfMS_J"
      },
      "execution_count": null,
      "outputs": []
    },
    {
      "cell_type": "code",
      "source": [
        "from sklearn.neural_network import MLPClassifier\n",
        "import warnings\n",
        "warnings.filterwarnings(\"ignore\", category=UserWarning)\n",
        "import matplotlib.pyplot as plt\n",
        "\n",
        "from numpy import array\n",
        "acc=array([float()]*200)\n",
        "prec = array([float()]*200)\n",
        "f11 = array([float()]*200)\n",
        "rec = array([float()]*200)\n",
        "for i in range(1,200):\n",
        "  nnet = MLPClassifier(hidden_layer_sizes=(250,150,100,80,60,20), learning_rate_init=0.001, solver=\"adam\", max_iter= i)\n",
        "  nnet.fit(x_train,y_train)\n",
        "  prediction_nnet = nnet.predict(x_test)\n",
        "  score_neural = accuracy_score(y_test, prediction_nnet)\n",
        "  precision_neural = precision_score(y_test,prediction_nnet)\n",
        "  recall_neural = recall_score(y_test,prediction_nnet)\n",
        "  f1_score_neural = f1_score(y_test, prediction_nnet)\n",
        "  acc[i]=score_neural\n",
        "  prec[i]=precision_neural\n",
        "  f11[i]=f1_score_neural\n",
        "  rec[i]=recall_neural\n",
        "\n",
        "\n",
        "\n",
        "x = np.arange(0, 200)\n",
        "plt.plot(x,acc)\n",
        "plt.ylabel('Accuracy')\n",
        "plt.xlabel('Iteration')\n",
        "plt.show()"
      ],
      "metadata": {
        "id": "iunGxW0bMTCf",
        "colab": {
          "base_uri": "https://localhost:8080/",
          "height": 279
        },
        "outputId": "199df0c8-226f-4346-ddda-1a6c742b2bdd"
      },
      "execution_count": null,
      "outputs": [
        {
          "output_type": "display_data",
          "data": {
            "text/plain": [
              "<Figure size 432x288 with 1 Axes>"
            ],
            "image/png": "[encoded data removed]"
          },
          "metadata": {
            "needs_background": "light"
          }
        }
      ]
    },
    {
      "cell_type": "code",
      "source": [
        "from sklearn.neural_network import MLPClassifier\n",
        "import warnings\n",
        "warnings.filterwarnings(\"ignore\", category=UserWarning)\n",
        "import matplotlib.pyplot as plt\n",
        "\n",
        "nnet2 = MLPClassifier(hidden_layer_sizes=(250,150,100,80,60,20), learning_rate_init=0.001, solver=\"lbfgs\", max_iter= 176)\n",
        "nnet2.fit(x_train,y_train)\n",
        "prediction_nnet2 = nnet2.predict(x_test)\n",
        "score_neural2 = accuracy_score(y_test, prediction_nnet2)\n",
        "precision_neural2 = precision_score(y_test,prediction_nnet2)\n",
        "recall_neural2 = recall_score(y_test,prediction_nnet2)\n",
        "f1_score_neural2 = f1_score(y_test, prediction_nnet2)\n",
        "\n",
        "print(\"score neural\",score_neural2)\n",
        "print(\"precision neural\", precision_neural2)\n",
        "print(\"recall  neural\",recall_neural2)\n",
        "print(\"f1 score neural \", f1_score_neural2)"
      ],
      "metadata": {
        "colab": {
          "base_uri": "https://localhost:8080/"
        },
        "id": "mqrF-Ye0YDLO",
        "outputId": "ff300ee6-7038-48b4-c858-785a958ecf2b"
      },
      "execution_count": null,
      "outputs": [
        {
          "output_type": "stream",
          "name": "stdout",
          "text": [
            "score neural 0.9622641509433962\n",
            "precision neural 0.9615384615384616\n",
            "recall  neural 0.9615384615384616\n",
            "f1 score neural  0.9615384615384616\n"
          ]
        }
      ]
    },
    {
      "cell_type": "code",
      "source": [
        "nnet3 = MLPClassifier(hidden_layer_sizes=(250,150,100,80,60,20), learning_rate_init=0.001, solver=\"sgd\", max_iter= 176)\n",
        "nnet3.fit(x_train,y_train)\n",
        "prediction_nnet3 = nnet3.predict(x_test)\n",
        "score_neural3 = accuracy_score(y_test, prediction_nnet3)\n",
        "precision_neural3 = precision_score(y_test,prediction_nnet3)\n",
        "recall_neural3 = recall_score(y_test,prediction_nnet3)\n",
        "f1_score_neural3 = f1_score(y_test, prediction_nnet3)\n",
        "\n",
        "\n",
        "\n",
        "print(\"score neural\",score_neural3)\n",
        "print(\"precision neural\", precision_neural3)\n",
        "print(\"recall  neural\",recall_neural3)\n",
        "print(\"f1 score neural \", f1_score_neural3)"
      ],
      "metadata": {
        "colab": {
          "base_uri": "https://localhost:8080/"
        },
        "id": "tJqC8yQnYDc1",
        "outputId": "f6bce9ad-443d-4c15-fe1f-180b5515bf6e"
      },
      "execution_count": null,
      "outputs": [
        {
          "output_type": "stream",
          "name": "stdout",
          "text": [
            "score neural 0.8490566037735849\n",
            "precision neural 0.875\n",
            "recall  neural 0.8076923076923077\n",
            "f1 score neural  0.8400000000000001\n"
          ]
        }
      ]
    },
    {
      "cell_type": "code",
      "source": [
        "max=acc[0]\n",
        "for i in range (1,200):\n",
        "  if acc[i]>=max:\n",
        "    max=acc[i]\n",
        "for i in range(1,200):\n",
        "  if max==acc[i]:\n",
        "    a=i\n",
        "\n",
        "print(max,a)"
      ],
      "metadata": {
        "colab": {
          "base_uri": "https://localhost:8080/"
        },
        "id": "penorR-Q-HGv",
        "outputId": "71d0c40e-c78c-408e-ed3f-9a0d9a29b4ff"
      },
      "execution_count": null,
      "outputs": [
        {
          "output_type": "stream",
          "name": "stdout",
          "text": [
            "0.9811320754716981 176\n"
          ]
        }
      ]
    },
    {
      "cell_type": "code",
      "source": [
        "\n",
        "print(\"score neural\",acc[176])\n",
        "print(\"precision neural\", prec[176])\n",
        "print(\"recall  neural\",rec[176])\n",
        "print(\"f1 score neural \", f11[176])"
      ],
      "metadata": {
        "colab": {
          "base_uri": "https://localhost:8080/"
        },
        "id": "-K7NjBl3uEDE",
        "outputId": "b43eeacf-bfbd-4d57-bb32-952940c5a15f"
      },
      "execution_count": null,
      "outputs": [
        {
          "output_type": "stream",
          "name": "stdout",
          "text": [
            "score neural 0.9811320754716981\n",
            "precision neural 1.0\n",
            "recall  neural 0.9615384615384616\n",
            "f1 score neural  0.9803921568627451\n"
          ]
        }
      ]
    },
    {
      "cell_type": "markdown",
      "source": [
        "1. Hyperparameter Tuning \\\\\n",
        "  a. Neural Network \\\\\n",
        "      i. hidden_layer_sizes (number of layers) (size of each layer) \\\\\n",
        "      ii. learning_rate_init=0.001 (0.1, 0.01, 0.001, 0.0001) \\\\\n",
        "      iii. solver='adam' (‘lbfgs’, ‘sgd’, ‘adam’) \\\\\n",
        "  b. Logreg (max_iters = 1, 2, 3, 4, 5, 10, 15, 50, 100, 200)"
      ],
      "metadata": {
        "id": "VuEThJhmlac9"
      }
    },
    {
      "cell_type": "markdown",
      "source": [
        "##  **PERFOMANCE TESTING**"
      ],
      "metadata": {
        "id": "Jg1m4Odyj5Rv"
      }
    },
    {
      "cell_type": "code",
      "source": [],
      "metadata": {
        "id": "sl2_X4ZT7L44"
      },
      "execution_count": null,
      "outputs": []
    },
    {
      "cell_type": "code",
      "source": [
        "from sklearn.metrics import accuracy_score\n",
        "from sklearn.metrics import precision_score\n",
        "from sklearn.metrics import recall_score\n",
        "from sklearn.metrics import f1_score\n",
        "from sklearn.metrics import confusion_matrix\n",
        "from sklearn.metrics import auc\n",
        "from sklearn.metrics import roc_curve, roc_auc_score\n",
        "import matplotlib.pyplot as plt"
      ],
      "metadata": {
        "id": "wXw-r_0TXTdZ"
      },
      "execution_count": null,
      "outputs": []
    },
    {
      "cell_type": "markdown",
      "source": [
        "1) Testing the logstic regression model\n"
      ],
      "metadata": {
        "id": "xqTjvR0kka3u"
      }
    },
    {
      "cell_type": "code",
      "source": [
        "score_logreg = accuracy_score(y_test, prediction)\n",
        "precision_logreg = precision_score(y_test,prediction)\n",
        "recall_logreg = recall_score(y_test,prediction)\n",
        "f1_score_logreg = f1_score(y_test, prediction)\n",
        "print(\"recall\", recall_logreg)\n",
        "print(\"precision\", precision_logreg)\n",
        "print(\"score\",score_logreg)\n",
        "print(\"f1\",f1_score_logreg)"
      ],
      "metadata": {
        "colab": {
          "base_uri": "https://localhost:8080/"
        },
        "id": "eYBAK7gYkFkG",
        "outputId": "5733df65-a6e8-4ddb-c076-134bfa017e8b"
      },
      "execution_count": null,
      "outputs": [
        {
          "output_type": "stream",
          "name": "stdout",
          "text": [
            "recall 0.8461538461538461\n",
            "precision 0.9565217391304348\n",
            "score 0.9056603773584906\n",
            "f1 0.8979591836734695\n"
          ]
        }
      ]
    },
    {
      "cell_type": "code",
      "source": [
        "import matplotlib.pyplot as plt\n",
        "from matplotlib import cm\n",
        "\n",
        "def f1_graph(precision, recall):\n",
        "  return 2 * precision * recall / (precision + recall)\n",
        "\n",
        "fig = plt.figure(figsize=(8, 6), dpi=100)\n",
        "ax = fig.add_subplot(projection='3d')\n",
        "x = y = np.arange(0.05, 1.1, 0.05)\n",
        "X, Y = np.meshgrid(x, y)\n",
        "Z = f1_graph(X, Y)\n",
        "\n",
        "ax.plot_surface(X, Y, Z, cmap=cm.jet)\n",
        "ax.set_xlabel('Precision')\n",
        "ax.set_ylabel('Recall')\n",
        "ax.set_zlabel('$F_1$')\n",
        "fig.show()"
      ],
      "metadata": {
        "colab": {
          "base_uri": "https://localhost:8080/",
          "height": 489
        },
        "id": "ObmADMojQCEi",
        "outputId": "1c842cd3-0e3a-4ec4-e437-d68a26636292"
      },
      "execution_count": null,
      "outputs": [
        {
          "output_type": "display_data",
          "data": {
            "text/plain": [
              "<Figure size 800x600 with 1 Axes>"
            ],
            "image/png": "[encoded data removed]"
          },
          "metadata": {
            "needs_background": "light"
          }
        }
      ]
    },
    {
      "cell_type": "markdown",
      "source": [
        "2) Testing the Decision Tree model : gini based"
      ],
      "metadata": {
        "id": "nU5ru1tfkg6i"
      }
    },
    {
      "cell_type": "code",
      "source": [
        "score_gini = accuracy_score(y_test, prediction_tree_gini)\n",
        "precision_gini = precision_score(y_test,prediction_tree_gini)\n",
        "recall_gini = recall_score(y_test,prediction_tree_gini)\n",
        "f1_score_gini = f1_score(y_test, prediction_tree_gini)\n",
        "print(\"score gini\",score_gini)\n",
        "print(\"precision gini\", precision_gini)\n",
        "print(\"recall gini\",recall_gini)\n",
        "print(\"f1 score gini\", f1_score_gini)"
      ],
      "metadata": {
        "colab": {
          "base_uri": "https://localhost:8080/"
        },
        "id": "faEl1SApk5Eb",
        "outputId": "c403d47d-e76d-4929-b3a9-b548e631fe66"
      },
      "execution_count": null,
      "outputs": [
        {
          "output_type": "stream",
          "name": "stdout",
          "text": [
            "score gini 0.9056603773584906\n",
            "precision gini 0.9565217391304348\n",
            "recall gini 0.8461538461538461\n",
            "f1 score gini 0.8979591836734695\n"
          ]
        }
      ]
    },
    {
      "cell_type": "markdown",
      "source": [
        "3) Testing the Decision Tree model : entropy based"
      ],
      "metadata": {
        "id": "o35ewKp6klpz"
      }
    },
    {
      "cell_type": "code",
      "source": [
        "score_entropy=accuracy_score(y_test, prediction_tree_entropy)\n",
        "precision_entropy = precision_score(y_test,prediction_tree_entropy)\n",
        "recall_entropy = recall_score(y_test,prediction_tree_entropy)\n",
        "f1_score_entropy = f1_score(y_test, prediction_tree_entropy)\n",
        "print(\"score entropy\",score_entropy)\n",
        "print(\"precision entropy\", precision_entropy)\n",
        "print(\"recall entropy\",recall_entropy)\n",
        "print(\"f1 score entropy\", f1_score_entropy)\n"
      ],
      "metadata": {
        "colab": {
          "base_uri": "https://localhost:8080/"
        },
        "id": "D5EJ8Hbqk5j8",
        "outputId": "28ed9b1e-ac30-4a01-de45-64adff605ab1"
      },
      "execution_count": null,
      "outputs": [
        {
          "output_type": "stream",
          "name": "stdout",
          "text": [
            "score entropy 0.9245283018867925\n",
            "precision entropy 0.9583333333333334\n",
            "recall entropy 0.8846153846153846\n",
            "f1 score entropy 0.9199999999999999\n"
          ]
        }
      ]
    },
    {
      "cell_type": "markdown",
      "source": [
        "4) Testing the Random Forest model : gini based"
      ],
      "metadata": {
        "id": "JhrbIG9SkqiZ"
      }
    },
    {
      "cell_type": "code",
      "source": [
        "score_forest_gini = accuracy_score(y_test, prediction_forest)\n",
        "precision_forest_gini = precision_score(y_test,prediction_forest)\n",
        "recall_forest_gini = recall_score(y_test,prediction_forest)\n",
        "f1_score_forest_g = f1_score(y_test, prediction_forest)\n",
        "print(\"score forest gini\",score_forest_gini)\n",
        "print(\"precision forest gini\", precision_forest_gini)\n",
        "print(\"recall forest gini\",recall_forest_gini)\n",
        "print(\"f1 score forest\", f1_score_forest_g)"
      ],
      "metadata": {
        "colab": {
          "base_uri": "https://localhost:8080/"
        },
        "id": "xk12Jy-2k6PI",
        "outputId": "670cf210-e997-4150-9e37-000a66ab03f0"
      },
      "execution_count": null,
      "outputs": [
        {
          "output_type": "stream",
          "name": "stdout",
          "text": [
            "score forest gini 0.8679245283018868\n",
            "precision forest gini 0.9130434782608695\n",
            "recall forest gini 0.8076923076923077\n",
            "f1 score forest 0.8571428571428572\n"
          ]
        }
      ]
    },
    {
      "cell_type": "markdown",
      "source": [
        "5) Testing the Random Forest model : entropy based"
      ],
      "metadata": {
        "id": "2sci8Xv2kyEJ"
      }
    },
    {
      "cell_type": "code",
      "source": [
        "score_forest_entropy = accuracy_score(y_test, prediction_forest_entropy)\n",
        "precision_forest_entropy = precision_score(y_test,prediction_forest_entropy)\n",
        "recall_forest_entropy = recall_score(y_test,prediction_forest_entropy)\n",
        "f1_score_forest_e = f1_score(y_test, prediction_forest_entropy)\n",
        "print(\"score forest entropy\",score_forest_entropy)\n",
        "print(\"precision forest entropy\", precision_forest_entropy)\n",
        "print(\"recall forest entropy\",recall_forest_entropy)\n",
        "print(\"f1 score forest entropy\", f1_score_forest_e)"
      ],
      "metadata": {
        "colab": {
          "base_uri": "https://localhost:8080/"
        },
        "id": "DFyu8x_Hk7IB",
        "outputId": "c96a1ba1-2724-46c7-ce1f-ffb0dd148585"
      },
      "execution_count": null,
      "outputs": [
        {
          "output_type": "stream",
          "name": "stdout",
          "text": [
            "score forest entropy 0.8490566037735849\n",
            "precision forest entropy 1.0\n",
            "recall forest entropy 0.6923076923076923\n",
            "f1 score forest entropy 0.8181818181818181\n"
          ]
        }
      ]
    },
    {
      "cell_type": "markdown",
      "source": [
        "6) Testing the Neural Networks model"
      ],
      "metadata": {
        "id": "QqsKv-p8t_Xj"
      }
    },
    {
      "cell_type": "code",
      "source": [
        "conf_matrix = confusion_matrix(y_true=y_test, y_pred=prediction_nnet)\n",
        "fig, ax = plt.subplots(figsize=(5, 5))\n",
        "ax.matshow(conf_matrix, cmap=plt.cm.Oranges, alpha=0.3)\n",
        "for i in range(conf_matrix.shape[0]):\n",
        "    for j in range(conf_matrix.shape[1]):\n",
        "        ax.text(x=j, y=i,s=conf_matrix[i, j], va='center', ha='center', size='xx-large')\n",
        "\n",
        "plt.xlabel('Predictions', fontsize=18)\n",
        "plt.ylabel('Correct', fontsize=18)\n",
        "plt.title('Confusion Matrix Neural Network', fontsize=18)\n",
        "plt.show()"
      ],
      "metadata": {
        "colab": {
          "base_uri": "https://localhost:8080/",
          "height": 358
        },
        "id": "iQM0ALSbvEPX",
        "outputId": "12263d7c-00f9-406e-d4d6-a7600bdd7fc0"
      },
      "execution_count": null,
      "outputs": [
        {
          "output_type": "display_data",
          "data": {
            "text/plain": [
              "<Figure size 360x360 with 1 Axes>"
            ],
            "image/png": "[encoded data removed]"
          },
          "metadata": {
            "needs_background": "light"
          }
        }
      ]
    },
    {
      "cell_type": "code",
      "source": [
        "y_pred_proba = nnet.predict_proba(x_test)[::,1]\n",
        "fpr, tpr, _ = roc_curve(y_test,  y_pred_proba)\n",
        "\n",
        "#create ROC curve\n",
        "plt.plot(fpr,tpr)\n",
        "plt.ylabel('True Positive Rate')\n",
        "plt.xlabel('False Positive Rate')\n",
        "plt.show()\n",
        "print(auc(fpr, tpr))"
      ],
      "metadata": {
        "colab": {
          "base_uri": "https://localhost:8080/",
          "height": 296
        },
        "id": "rAY5Wu4suku4",
        "outputId": "a5013bd7-ebaf-4472-e97a-49ee5df5f13d"
      },
      "execution_count": null,
      "outputs": [
        {
          "output_type": "display_data",
          "data": {
            "text/plain": [
              "<Figure size 432x288 with 1 Axes>"
            ],
            "image/png": "[encoded data removed]"
          },
          "metadata": {
            "needs_background": "light"
          }
        },
        {
          "output_type": "stream",
          "name": "stdout",
          "text": [
            "0.9857549857549859\n"
          ]
        }
      ]
    },
    {
      "cell_type": "markdown",
      "source": [
        "# Comparing performances"
      ],
      "metadata": {
        "id": "IzD8p-NXvPNN"
      }
    },
    {
      "cell_type": "code",
      "source": [
        "import pandas as pd\n",
        "\n",
        "precisiondata={'precision':['precision','precision_gini','precision_entropy','precision_forest_gini','precision_forest_entropy','precision_neural'],'Value':[precision_logreg,precision_gini,precision_entropy,precision_forest_gini,precision_forest_entropy,precision_neural]}\n",
        "\n",
        "scoredata={'score':['score','score_gini','score_entropy','score_forest_gini','score_forest_entropy','score_neural'],'Value':[score_logreg,score_gini,score_entropy,score_forest_gini,score_forest_entropy,score_neural]}\n",
        "\n",
        "f1data={'f1':['f1_score','f1_score_gini','f1_score_entropy','f1_score_forest_g','f1_score_forest_e','f1_score_neural'],'Value':[f1_score_logreg,f1_score_gini,f1_score_entropy,f1_score_forest_g,f1_score_forest_e,f1_score_neural]}\n",
        "\n",
        "recalldata={'recall':['recall','recall_gini','recall_entropy','recall_forest_gini','recall_forest_entropy','recall_neural'],'Value':[recall_logreg,recall_gini,recall_entropy,recall_forest_gini,recall_forest_entropy,recall_neural]}\n",
        "\n",
        "precision_data=pd.DataFrame(precisiondata)\n",
        "score_data=pd.DataFrame(scoredata)\n",
        "f1_data=pd.DataFrame(f1data)\n",
        "recall_data=pd.DataFrame(recalldata)"
      ],
      "metadata": {
        "id": "NhXXTFXuvUe4"
      },
      "execution_count": null,
      "outputs": []
    },
    {
      "cell_type": "code",
      "source": [
        "print(precisiondata)"
      ],
      "metadata": {
        "colab": {
          "base_uri": "https://localhost:8080/"
        },
        "id": "GPI832ECg7ik",
        "outputId": "9f1143dc-9f57-4385-c6c6-108833a167e5"
      },
      "execution_count": null,
      "outputs": [
        {
          "output_type": "stream",
          "name": "stdout",
          "text": [
            "{'precision': ['precision', 'precision_gini', 'precision_entropy', 'precision_forest_gini', 'precision_forest_entropy', 'precision_neural'], 'Value': [0.7916666666666666, 0.8387096774193549, 0.8387096774193549, 0.9047619047619048, 0.8, 0.782608695652174]}\n"
          ]
        }
      ]
    },
    {
      "cell_type": "code",
      "source": [
        "import seaborn as sns"
      ],
      "metadata": {
        "id": "VT5j2WLqzvvu"
      },
      "execution_count": null,
      "outputs": []
    },
    {
      "cell_type": "code",
      "source": [
        "sns.barplot(precisiondata['precision'], precisiondata['Value'])\n",
        "plt.xticks(rotation=40)\n",
        "plt.xlabel('Model')\n",
        "plt.ylabel('Precision')\n",
        "# sns.color_palette(\"rocket\", as_cmap=True)\n",
        "plt.show()\n",
        "\n",
        "# See if you can get more values on the y axis!\n"
      ],
      "metadata": {
        "colab": {
          "base_uri": "https://localhost:8080/",
          "height": 411
        },
        "id": "0BJqjOUczoDk",
        "outputId": "0efba326-88e4-421e-979b-3ba7ebc7e60f"
      },
      "execution_count": null,
      "outputs": [
        {
          "output_type": "stream",
          "name": "stderr",
          "text": [
            "/usr/local/lib/python3.8/dist-packages/seaborn/_decorators.py:36: FutureWarning: Pass the following variables as keyword args: x, y. From version 0.12, the only valid positional argument will be `data`, and passing other arguments without an explicit keyword will result in an error or misinterpretation.\n",
            "  warnings.warn(\n"
          ]
        },
        {
          "output_type": "display_data",
          "data": {
            "text/plain": [
              "<Figure size 432x288 with 1 Axes>"
            ],
            "image/png": "[encoded data removed]"
          },
          "metadata": {
            "needs_background": "light"
          }
        }
      ]
    },
    {
      "cell_type": "code",
      "source": [
        "# sns.histplot(recalldata, x=\"recall\", y=\"Value\")\n",
        "sns.barplot(recalldata['recall'], recalldata['Value'])\n",
        "plt.xticks(rotation=40)\n",
        "plt.xlabel('Model')\n",
        "plt.ylabel('Recall')\n",
        "# sns.color_palette(\"rocket\", as_cmap=True)\n",
        "plt.show()"
      ],
      "metadata": {
        "colab": {
          "base_uri": "https://localhost:8080/",
          "height": 400
        },
        "id": "iiBiiMqoaUEs",
        "outputId": "4782d159-680d-41ab-a15d-35173184a7a3"
      },
      "execution_count": null,
      "outputs": [
        {
          "output_type": "stream",
          "name": "stderr",
          "text": [
            "/usr/local/lib/python3.8/dist-packages/seaborn/_decorators.py:36: FutureWarning: Pass the following variables as keyword args: x, y. From version 0.12, the only valid positional argument will be `data`, and passing other arguments without an explicit keyword will result in an error or misinterpretation.\n",
            "  warnings.warn(\n"
          ]
        },
        {
          "output_type": "display_data",
          "data": {
            "text/plain": [
              "<Figure size 432x288 with 1 Axes>"
            ],
            "image/png": "[encoded data removed]"
          },
          "metadata": {
            "needs_background": "light"
          }
        }
      ]
    },
    {
      "cell_type": "code",
      "source": [
        "# sns.histplot(f1data, x=\"f1\", y=\"Value\")\n",
        "# sns.histplot(recalldata, x=\"recall\", y=\"Value\")\n",
        "sns.barplot(f1data['f1'], f1data['Value'])\n",
        "plt.xticks(rotation=40)\n",
        "plt.xlabel('Model')\n",
        "plt.ylabel('f1')\n",
        "# sns.color_palette(\"rocket\", as_cmap=True)\n",
        "plt.show()"
      ],
      "metadata": {
        "colab": {
          "base_uri": "https://localhost:8080/",
          "height": 389
        },
        "id": "u-A0O1tjaUS4",
        "outputId": "3b89baea-4374-4946-b94d-a5fa156d223d"
      },
      "execution_count": null,
      "outputs": [
        {
          "output_type": "stream",
          "name": "stderr",
          "text": [
            "/usr/local/lib/python3.8/dist-packages/seaborn/_decorators.py:36: FutureWarning: Pass the following variables as keyword args: x, y. From version 0.12, the only valid positional argument will be `data`, and passing other arguments without an explicit keyword will result in an error or misinterpretation.\n",
            "  warnings.warn(\n"
          ]
        },
        {
          "output_type": "display_data",
          "data": {
            "text/plain": [
              "<Figure size 432x288 with 1 Axes>"
            ],
            "image/png": "[encoded data removed]"
          },
          "metadata": {
            "needs_background": "light"
          }
        }
      ]
    },
    {
      "cell_type": "code",
      "source": [
        "# sns.histplot(scoredata, x=\"score\", y=\"Value\")\n",
        "sns.barplot(scoredata['score'], scoredata['Value'])\n",
        "plt.xticks(rotation=40)\n",
        "plt.xlabel('Model')\n",
        "plt.ylabel('Accuracy')\n",
        "# sns.color_palette(\"rocket\", as_cmap=True)\n",
        "plt.show()"
      ],
      "metadata": {
        "colab": {
          "base_uri": "https://localhost:8080/",
          "height": 399
        },
        "id": "4HkL7zataUjB",
        "outputId": "d939fc78-ee19-4650-a92d-5633e4a65448"
      },
      "execution_count": null,
      "outputs": [
        {
          "output_type": "stream",
          "name": "stderr",
          "text": [
            "/usr/local/lib/python3.8/dist-packages/seaborn/_decorators.py:36: FutureWarning: Pass the following variables as keyword args: x, y. From version 0.12, the only valid positional argument will be `data`, and passing other arguments without an explicit keyword will result in an error or misinterpretation.\n",
            "  warnings.warn(\n"
          ]
        },
        {
          "output_type": "display_data",
          "data": {
            "text/plain": [
              "<Figure size 432x288 with 1 Axes>"
            ],
            "image/png": "[encoded data removed]"
          },
          "metadata": {
            "needs_background": "light"
          }
        }
      ]
    },
    {
      "cell_type": "markdown",
      "source": [
        "# Tasks\n",
        "\n",
        "1. Complete the Normalization function ⭐️\n",
        "2. Load in the test data ⭐️\n",
        "3. Rerun with test data ⭐️\n",
        "4. Metrics Reporting ⭐️\n",
        "5. Find how many positive and negative examples are in both the train and test 👨‍💻 \\\\\n",
        "  a. Visualize these metrics with histograms.\n",
        "\n",
        "# Homework\n",
        "\n",
        "2. Hyperparameter Tuning \\\\\n",
        "  a. Neural Network \\\\\n",
        "      i. hidden_layer_sizes\n",
        "  b. Logreg (max_iters = 1, 2, 3, 4, 5, 10, 15, 50, 100, 200)\n",
        "3. Start writing the paper!! \\\\\n",
        "  a. https://github.com/oscarfco\n"
      ],
      "metadata": {
        "id": "BinGSyhHU-YE"
      }
    }
  ]
}